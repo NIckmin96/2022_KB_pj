version https://git-lfs.github.com/spec/v1
oid sha256:6a083fc8832c39e79cb6c35ac3d3cd7048f2711d05d6e4816d2ee2d7e88c2c7a
size 3277
